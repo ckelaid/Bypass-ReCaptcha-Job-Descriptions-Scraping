{
 "cells": [
  {
   "cell_type": "code",
   "execution_count": 23,
   "metadata": {},
   "outputs": [],
   "source": [
    "# Deps\n",
    "import time \n",
    "import random\n",
    "from selenium import webdriver\n",
    "from selenium.webdriver.common.by import By\n",
    "from selenium.common.exceptions import NoSuchElementException\n",
    "from selenium.webdriver.chrome.options import Options\n",
    "import math\n",
    "import pandas as pd\n",
    "import warnings\n",
    "import pickle\n",
    "import GetSalary\n",
    "import importlib\n",
    "import scrape2_2 as scr2\n",
    "import driver_config as dc\n",
    "import numpy as np\n",
    "import scipy.interpolate as si\n",
    "from selenium import webdriver\n",
    "from selenium.webdriver.common.action_chains import ActionChains\n",
    "from selenium.webdriver.common.keys import Keys\n",
    "from selenium.webdriver.support.ui import WebDriverWait\n",
    "from selenium.webdriver.support import expected_conditions as EC\n",
    "importlib.reload(GetSalary)\n",
    "importlib.reload(scr2)\n",
    "importlib.reload(dc)\n",
    "\n",
    "# Remove DevTools warning\n",
    "#chrome_options.add_experimental_option('excludeSwitches', ['enable-logging'])\n",
    "\n",
    "\n",
    "def fix_dict_lens(job_dict:dict) -> dict:\n",
    "\n",
    "    ix = 0\n",
    "    # Get dictionary lengths\n",
    "    dic_lens = []\n",
    "    for val in job_dict.values():\n",
    "        dic_lens.append(len(val))\n",
    "    \n",
    "    # Making all dictionary entries lengths equal\n",
    "    for i in range(len(dic_lens)):\n",
    "\n",
    "        if dic_lens[i] == 6: # If Salary & Application Due are missing\n",
    "\n",
    "            # The corresponding job in dicitonary\n",
    "            job_dict['Job '+str(i+1)].insert(3, 'n/a') # Insert 'n/a' for Salary\n",
    "            job_dict['Job '+str(i+1)].insert(5, 'n/a') # Insert 'n/a' for App. due\n",
    "        \n",
    "        if dic_lens[i] == 7: # If Salary or Application Due is missing\n",
    "\n",
    "            if job_dict['Job '+str(i+1)][3].startswith('Salary'): # if salary is present\n",
    "                # Insert 'n/a' for App. due\n",
    "                job_dict['Job '+str(i+1)].insert(5, 'n/a')\n",
    "            elif job_dict['Job '+str(i+1)][4].startswith('Application'): # else if App. Due is present (index 4 for length 7)\n",
    "                # Insert 'n/a' for Salary\n",
    "                job_dict['Job '+str(i+1)].insert(3, 'n/a')\n",
    "            elif job_dict['Job '+str(i+1)][5].startswith('Announcement'): # In case of 'Annoucement' entry\n",
    "                job_dict['Job '+str(i+1)].insert(3, 'n/a') # Insert 'n/a' for Salary\n",
    "                job_dict['Job '+str(i+1)].insert(5, 'n/a') # Insert 'n/a' for App. due\n",
    "                \n",
    "                # get rid of 'Announcement' entry, which is 2 indexes more than before since we inserted n/a's\n",
    "                del job_dict['Job '+str(i+1)][7]\n",
    "\n",
    "        if dic_lens[i] == 9: # if all entries are full but we also have the 'Announcement', then simply remove that one\n",
    "            if job_dict['Job '+str(i+1)][7].startswith('Announcement'):\n",
    "                del job_dict['Job '+str(i+1)][7]\n",
    "\n",
    "    return job_dict\n"
   ]
  },
  {
   "cell_type": "code",
   "execution_count": 2,
   "metadata": {},
   "outputs": [
    {
     "data": {
      "text/plain": [
       "(151, 779, 339, 5082)"
      ]
     },
     "execution_count": 2,
     "metadata": {},
     "output_type": "execute_result"
    }
   ],
   "source": [
    "with open('Job_Attrs_Programmer_Analyst'+'.pkl', 'rb') as f:\n",
    "    job_attrs_Programmer_Analyst = pickle.load(f)\n",
    "\n",
    "with open('Job_Attrs_IT_Support_and_Training'+'.pkl', 'rb') as f:\n",
    "    job_attrs_IT_Support_and_Training = pickle.load(f)\n",
    "\n",
    "with open('Job_Attrs_IT_Manager_Director'+'.pkl', 'rb') as f:\n",
    "    job_attrs_IT_Manager_Director = pickle.load(f)\n",
    "\n",
    "with open('Job_Attrs_workday'+'.pkl', 'rb') as f:\n",
    "    job_attrs_workday = pickle.load(f)\n",
    "\n",
    "len(job_attrs_Programmer_Analyst), len(job_attrs_IT_Support_and_Training), len(job_attrs_IT_Manager_Director), len(job_attrs_workday)"
   ]
  },
  {
   "cell_type": "code",
   "execution_count": 3,
   "metadata": {},
   "outputs": [
    {
     "name": "stdout",
     "output_type": "stream",
     "text": [
      "6 6 8 6\n",
      "6 6 6 6\n",
      "6 6 6 6\n",
      "6 7 6 6\n",
      "6 6 7 6\n"
     ]
    }
   ],
   "source": [
    "for i in range(5):\n",
    "    print(len(job_attrs_Programmer_Analyst[i]),len(job_attrs_IT_Support_and_Training[i]), len(job_attrs_IT_Manager_Director[i]), len(job_attrs_workday[i]))"
   ]
  },
  {
   "cell_type": "code",
   "execution_count": 4,
   "metadata": {},
   "outputs": [
    {
     "name": "stdout",
     "output_type": "stream",
     "text": [
      "6351\n"
     ]
    }
   ],
   "source": [
    "# Join all attrs together\n",
    "all_attrs = job_attrs_Programmer_Analyst + job_attrs_IT_Support_and_Training + job_attrs_IT_Manager_Director + job_attrs_workday\n",
    "\n",
    "print(len(all_attrs))\n",
    "\n",
    "# Store in dictionary\n",
    "job_dict = {}\n",
    "for i in range(len(all_attrs)):\n",
    "    job_dict['Job ' + str(i+1)] = all_attrs[i]"
   ]
  },
  {
   "cell_type": "code",
   "execution_count": 7,
   "metadata": {},
   "outputs": [
    {
     "name": "stdout",
     "output_type": "stream",
     "text": [
      "6\n",
      "6\n",
      "6\n",
      "6\n",
      "6\n",
      "6\n",
      "7\n",
      "6\n",
      "6\n",
      "6\n",
      "7\n",
      "6\n",
      "6\n",
      "6\n",
      "6\n",
      "6\n",
      "6\n",
      "7\n",
      "6\n",
      "7\n",
      "\n",
      "\n",
      "8\n",
      "8\n",
      "8\n",
      "8\n",
      "8\n",
      "8\n",
      "8\n",
      "8\n",
      "8\n",
      "8\n",
      "8\n",
      "8\n",
      "8\n",
      "8\n",
      "8\n",
      "8\n",
      "8\n",
      "8\n",
      "8\n",
      "8\n"
     ]
    }
   ],
   "source": [
    "for key, val in list(job_dict.items())[:10]:\n",
    "    print(len(val))\n",
    "\n",
    "job_dict = fix_dict_lens(job_dict)\n",
    "\n",
    "print('\\n')\n",
    "\n",
    "for key, val in list(job_dict.items())[:10]:\n",
    "    print(len(val))"
   ]
  },
  {
   "cell_type": "code",
   "execution_count": 13,
   "metadata": {},
   "outputs": [
    {
     "name": "stdout",
     "output_type": "stream",
     "text": [
      "927\n"
     ]
    }
   ],
   "source": [
    "# Check if a job does not meet the length criteria\n",
    "for i in range(len(all_attrs)):\n",
    "    if len(job_dict['Job ' + str(i+1)]) != 8:\n",
    "        print(i)"
   ]
  },
  {
   "cell_type": "code",
   "execution_count": 21,
   "metadata": {},
   "outputs": [
    {
     "name": "stdout",
     "output_type": "stream",
     "text": [
      "5\n",
      "8\n"
     ]
    }
   ],
   "source": [
    "print(len(job_dict['Job 928']))\n",
    "job_dict['Job 928'].insert(3, 'n/a')\n",
    "job_dict['Job 928'].insert(4, 'n/a')\n",
    "job_dict['Job 928'].insert(5, 'n/a')\n",
    "print(len(job_dict['Job 928']))"
   ]
  },
  {
   "cell_type": "code",
   "execution_count": 24,
   "metadata": {},
   "outputs": [
    {
     "name": "stdout",
     "output_type": "stream",
     "text": [
      "Final file saved as:  April_Scrape_Jobs_Updated.csv\n"
     ]
    }
   ],
   "source": [
    "# April\n",
    "df = pd.DataFrame(job_dict).T.rename(columns={0:'Title',1:'Location',2:'Type',3:'Salary',4:'Posted On',5:'Due',6:'Category',7:'Description'})\n",
    "    \n",
    "df.to_csv('April_Scrape' + '_Jobs.csv', index=False)\n",
    "\n",
    "GetSalary.grab_salary_from_desc('April_Scrape_Jobs.csv') #"
   ]
  },
  {
   "cell_type": "code",
   "execution_count": null,
   "metadata": {},
   "outputs": [],
   "source": []
  }
 ],
 "metadata": {
  "kernelspec": {
   "display_name": "scrape",
   "language": "python",
   "name": "python3"
  },
  "language_info": {
   "codemirror_mode": {
    "name": "ipython",
    "version": 3
   },
   "file_extension": ".py",
   "mimetype": "text/x-python",
   "name": "python",
   "nbconvert_exporter": "python",
   "pygments_lexer": "ipython3",
   "version": "3.7.15"
  },
  "orig_nbformat": 4,
  "vscode": {
   "interpreter": {
    "hash": "10b88bf028bfa9b25f5dbe99d4a0bd4730b6baebc1bad2b22718095ba5dd32bb"
   }
  }
 },
 "nbformat": 4,
 "nbformat_minor": 2
}
